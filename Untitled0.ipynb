{
  "nbformat": 4,
  "nbformat_minor": 0,
  "metadata": {
    "colab": {
      "provenance": [],
      "machine_shape": "hm",
      "mount_file_id": "1aeIuX_AL2KLEjv6OHbEOQIk0iImGqzQS",
      "authorship_tag": "ABX9TyMxmGQSY8l2VHLRs2eWKeTK",
      "include_colab_link": true
    },
    "kernelspec": {
      "name": "python3",
      "display_name": "Python 3"
    },
    "language_info": {
      "name": "python"
    },
    "accelerator": "TPU"
  },
  "cells": [
    {
      "cell_type": "markdown",
      "metadata": {
        "id": "view-in-github",
        "colab_type": "text"
      },
      "source": [
        "<a href=\"https://colab.research.google.com/github/vishalvaka/Fake-Face-Detection/blob/main/Untitled0.ipynb\" target=\"_parent\"><img src=\"https://colab.research.google.com/assets/colab-badge.svg\" alt=\"Open In Colab\"/></a>"
      ]
    },
    {
      "cell_type": "code",
      "metadata": {
        "id": "C5-AO25_MAd9"
      },
      "source": [
        "import tensorflow\n",
        "from tensorflow.keras.layers import Input, BatchNormalization, ReLU, Conv2D, Conv1D, Flatten, Dense, MaxPool2D, AvgPool2D, GlobalAvgPool2D, GlobalAveragePooling1D, Concatenate, Reshape, Lambda, GlobalAveragePooling2D, Softmax\n",
        "from tensorflow.keras.models import Model\n",
        "import tensorflow.keras.backend as K\n",
        "import tensorflow as tf\n",
        "import random\n",
        "from tensorflow import keras\n",
        "import time\n",
        "import os\n",
        "import numpy as np\n",
        "import cv2"
      ],
      "execution_count": null,
      "outputs": []
    },
    {
      "cell_type": "code",
      "metadata": {
        "id": "Ctykuq6uMFln"
      },
      "source": [
        "import sys\n",
        "print(sys.getrecursionlimit())\n",
        "sys.setrecursionlimit(2000)"
      ],
      "execution_count": null,
      "outputs": []
    },
    {
      "cell_type": "code",
      "metadata": {
        "id": "M6s0t1tdMHDx"
      },
      "source": [
        "def bn_relu_conv(x, filters, kernel_size):\n",
        "  x = BatchNormalization()(x)\n",
        "  x = ReLU()(x)\n",
        "  x = Conv2D(filters, kernel_size, padding='same')(x)\n",
        "  return x"
      ],
      "execution_count": null,
      "outputs": []
    },
    {
      "cell_type": "code",
      "metadata": {
        "id": "mhmMy-BpMIf4"
      },
      "source": [
        "def dense_block(tensor, k, reps):\n",
        "  for _ in range(reps):\n",
        "    x = bn_relu_conv(tensor, k*4, 1)\n",
        "    x = bn_relu_conv(x, k, 3)\n",
        "    tensor = Concatenate()([tensor, x])\n",
        "  return tensor"
      ],
      "execution_count": null,
      "outputs": []
    },
    {
      "cell_type": "code",
      "metadata": {
        "id": "oTVbpT0wMJ3X"
      },
      "source": [
        "def transition_layer(x, theta):\n",
        "  f = int(tensorflow.keras.backend.int_shape(x)[-1]*theta)\n",
        "  x = bn_relu_conv(x, f, 1)\n",
        "  x = AvgPool2D(2, strides = 2, padding= 'same')(x)\n",
        "  return x"
      ],
      "execution_count": null,
      "outputs": []
    },
    {
      "cell_type": "code",
      "metadata": {
        "id": "UEjjjmNuMLcf"
      },
      "source": [
        "def dense_unit(x, k, num, channels, theta):\n",
        "  for i in range(num-1):\n",
        "    x = dense_block(x, k, channels)\n",
        "    x = transition_layer(x, theta)\n",
        "\n",
        "  x = dense_block(x, k, channels)\n",
        "\n",
        "  return x"
      ],
      "execution_count": null,
      "outputs": []
    },
    {
      "cell_type": "code",
      "metadata": {
        "id": "E2uxS6saMOmU"
      },
      "source": [
        "def cffn():\n",
        "  channels = [24, 30]\n",
        "  num = [2, 3]\n",
        "  k = 24\n",
        "  theta = 0.5\n",
        "\n",
        "  input = Input(shape = (64, 64, 3))\n",
        "  x = Conv2D(48, 7, strides = 4, padding = 'same')(input)\n",
        "  x = dense_unit(x, k, num[0], channels[0], theta)\n",
        "\n",
        "  x = dense_unit(x, k, num[1], channels[1], theta)\n",
        "\n",
        "  x = Dense(128)(x)\n",
        "  output = Flatten()(x)\n",
        "\n",
        "  return Model(input, output)"
      ],
      "execution_count": null,
      "outputs": []
    },
    {
      "cell_type": "code",
      "metadata": {
        "id": "o4aLF3bZMPQU"
      },
      "source": [
        "def euclidean_distance(outputs):\n",
        "    # unpack the vectors into separate lists\n",
        "    (featsA, featsB) = outputs\n",
        "    # compute the sum of squared distances between the vectors\n",
        "    sumSquared = K.sum(K.square(featsA - featsB), axis=1, keepdims=True)\n",
        "    # return the euclidean distance between the vectors\n",
        "    return K.sqrt(K.maximum(sumSquared, K.epsilon()))"
      ],
      "execution_count": null,
      "outputs": []
    },
    {
      "cell_type": "code",
      "metadata": {
        "id": "FLZ_vPlgMQyZ"
      },
      "source": [
        "def contrastive_loss(y, preds, margin=0.5):\n",
        "    # explicitly cast the true class label data type to the predicted\n",
        "    # class label data type (otherwise we run the risk of having two\n",
        "    # separate data types, causing TensorFlow to error out)\n",
        "    y = tf.cast(y, preds.dtype)\n",
        "    # calculate the contrastive loss between the true labels and\n",
        "    # the predicted labels\n",
        "    squaredPreds = K.square(preds)\n",
        "    squaredMargin = K.square(K.maximum(margin - preds, 0))\n",
        "    loss = K.mean(y * squaredPreds + (1 - y) * squaredMargin)\n",
        "    # return the computed contrastive loss to the calling function\n",
        "    return loss"
      ],
      "execution_count": null,
      "outputs": []
    },
    {
      "cell_type": "code",
      "metadata": {
        "id": "c55z_XF_MSI7"
      },
      "source": [
        "imgA = Input(shape=(64, 64, 3))\n",
        "imgB = Input(shape=(64, 64, 3))\n",
        "featureExtractor = cffn()\n",
        "featsA = featureExtractor(imgA)\n",
        "featsB = featureExtractor(imgB)\n",
        "# finally, construct the siamese network\n",
        "distance = Lambda(euclidean_distance)([featsA, featsB])\n",
        "model = Model(inputs=[imgA, imgB], outputs=distance)\n",
        "\n",
        "model.compile(loss=contrastive_loss, optimizer=\"adam\", metrics = ['accuracy'])"
      ],
      "execution_count": null,
      "outputs": []
    },
    {
      "cell_type": "code",
      "metadata": {
        "id": "NsE1BzhWMXVY"
      },
      "source": [
        "pip install patool"
      ],
      "execution_count": null,
      "outputs": []
    },
    {
      "cell_type": "code",
      "metadata": {
        "id": "C7w7YYdfMYBV"
      },
      "source": [
        "import patoolib\n",
        "patoolib.extract_archive(\"/content/drive/MyDrive/fake.rar\", outdir=\"/content/sample_data/data\")"
      ],
      "execution_count": null,
      "outputs": []
    },
    {
      "cell_type": "code",
      "metadata": {
        "id": "-nrFaprKMZp6"
      },
      "source": [
        "patoolib.extract_archive(\"/content/drive/MyDrive/real.rar\", outdir=\"/content/sample_data/data\")"
      ],
      "execution_count": null,
      "outputs": []
    },
    {
      "cell_type": "code",
      "metadata": {
        "id": "80fbIOlEEIxo"
      },
      "source": [
        "import os\n",
        "i = 0\n",
        "for img in os.listdir('/content/sample_data/data/fake'):\n",
        "  os.remove(os.path.join('/content/sample_data/data/fake', img))\n",
        "  i += 1\n",
        "  if i == 50000:\n",
        "    break"
      ],
      "execution_count": null,
      "outputs": []
    },
    {
      "cell_type": "code",
      "metadata": {
        "id": "BUmGK2IKEnn6"
      },
      "source": [
        "def make_pairs(images, labels):\n",
        "    # initialize two empty lists to hold the (image, image) pairs and\n",
        "    # labels to indicate if a pair is positive or negative\n",
        "    pairImages = []\n",
        "    pairLabels = []\n",
        "\n",
        "    # calculate the total number of classes present in the dataset\n",
        "    # and then build a list of indexes for each class label that\n",
        "    # provides the indexes for all examples with a given label\n",
        "    numClasses = len(np.unique(labels))\n",
        "    idx = [np.where(labels == i)[0] for i in range(0, numClasses)]\n",
        "    #print(idx)\n",
        "        # loop over all images\n",
        "    for idxA in range(len(images)):\n",
        "        # grab the current image and label belonging to the current\n",
        "        # iteration\n",
        "        currentImage = images[idxA]\n",
        "        label = labels[idxA]\n",
        "        # randomly pick an image that belongs to the *same* class\n",
        "        # label\n",
        "        idxB = np.random.choice(idx[label])\n",
        "        posImage = images[idxB]\n",
        "        # prepare a positive pair and update the images and labels\n",
        "        # lists, respectively\n",
        "        pairImages.append([currentImage, posImage])\n",
        "        pairLabels.append([1])\n",
        "        # grab the indices for each of the class labels *not* equal to\n",
        "        # the current label and randomly pick an image corresponding\n",
        "        # to a label *not* equal to the current label\n",
        "        #negIdx = np.where(labels != label)[0]\n",
        "        negIdx = np.where(labels != label)[0]\n",
        "        #print(negIdx)\n",
        "        negImage = images[np.random.choice(negIdx)]\n",
        "        #print(negImage)\n",
        "        # prepare a negative pair of images and update our lists\n",
        "        pairImages.append([currentImage, negImage])\n",
        "        pairLabels.append([0])\n",
        "    # return a 2-tuple of our image pairs and labels\n",
        "    return (np.array(pairImages), np.array(pairLabels))"
      ],
      "execution_count": null,
      "outputs": []
    },
    {
      "cell_type": "code",
      "metadata": {
        "colab": {
          "base_uri": "https://localhost:8080/"
        },
        "id": "e4xxGGf8Eo1j",
        "outputId": "ab9363fc-577c-4aaf-fff3-55dd031b0f62"
      },
      "source": [
        "batch = 16\n",
        "\n",
        "idg1 = tf.keras.preprocessing.image.ImageDataGenerator()\n",
        "\n",
        "gen1 = idg1.flow_from_directory('/content/sample_data/data',\n",
        "                                shuffle=True,\n",
        "                                class_mode='binary', target_size = (64, 64), batch_size = batch)\n",
        "\n",
        "\n",
        "class JoinedGen(tf.keras.utils.Sequence):\n",
        "    def __init__(self, input_gen1):\n",
        "        self.gen1 = input_gen1\n",
        "\n",
        "    def __len__(self):\n",
        "        return len(self.gen1)\n",
        "\n",
        "    def __getitem__(self, i):\n",
        "        pairs, labels = make_pairs(gen1[i][0], gen1[i][1].astype(int))\n",
        "\n",
        "        return [pairs[:, 0], pairs[:, 1]], labels\n",
        "\n",
        "    def on_epoch_end(self):\n",
        "        self.gen1.on_epoch_end()"
      ],
      "execution_count": null,
      "outputs": [
        {
          "output_type": "stream",
          "text": [
            "Found 110415 images belonging to 2 classes.\n"
          ],
          "name": "stdout"
        }
      ]
    },
    {
      "cell_type": "code",
      "metadata": {
        "id": "_z7klXy9Ezxa"
      },
      "source": [
        "tf.config.run_functions_eagerly(True)\n",
        "\n",
        "mygen = JoinedGen(gen1)\n",
        "\n",
        "model.fit(mygen, epochs = 2, steps_per_epoch=110415//batch, use_multiprocessing = True, workers = 16)"
      ],
      "execution_count": null,
      "outputs": []
    },
    {
      "cell_type": "code",
      "metadata": {
        "id": "Hl-mg_ezMbym"
      },
      "source": [
        "def correct(arr):\n",
        "  out = []\n",
        "  for i in arr:\n",
        "    for j in i:\n",
        "      out.append(j)\n",
        "  return out\n",
        "\n",
        "image_tensor = correct(np.load('/content/drive/MyDrive/images_rgb_all.npy', allow_pickle=True))\n",
        "label_tensor = correct(np.load('/content/drive/MyDrive/labels_rgb_all.npy', allow_pickle=True))"
      ],
      "execution_count": null,
      "outputs": []
    },
    {
      "cell_type": "code",
      "metadata": {
        "id": "ES3BmpG4V8zi"
      },
      "source": [
        "image_tensor = image_tensor[0:100000]\n",
        "label_tensor= label_tensor[0:100000]"
      ],
      "execution_count": null,
      "outputs": []
    },
    {
      "cell_type": "code",
      "metadata": {
        "id": "Wya4fIhfMhrL"
      },
      "source": [
        "import sklearn\n",
        "images_shuffled, labels_shuffled = sklearn.utils.shuffle(image_tensor, label_tensor)"
      ],
      "execution_count": null,
      "outputs": []
    },
    {
      "cell_type": "code",
      "metadata": {
        "id": "zKvz31W6MjDU"
      },
      "source": [
        "def get_label(label1, label2):\n",
        "    if(label1 == label2):\n",
        "        return 1\n",
        "    else:\n",
        "        return 0"
      ],
      "execution_count": null,
      "outputs": []
    },
    {
      "cell_type": "code",
      "metadata": {
        "id": "re3uKQkBMmaY"
      },
      "source": [
        "pairs = []\n",
        "pairLabels = []\n",
        "i = 0\n",
        "while i<len(images_shuffled):\n",
        "  pairs.append([images_shuffled[i], images_shuffled[i+1]])\n",
        "  pairLabels.append(get_label(labels_shuffled[i], labels_shuffled[i+1]))\n",
        "  i += 2"
      ],
      "execution_count": null,
      "outputs": []
    },
    {
      "cell_type": "code",
      "metadata": {
        "id": "wXGtGERKMosu"
      },
      "source": [
        "from sklearn.model_selection import train_test_split\n",
        "X_train, X_test, y_train, y_test = train_test_split(pairs, pairLabels, test_size = 0.1)"
      ],
      "execution_count": null,
      "outputs": []
    },
    {
      "cell_type": "code",
      "metadata": {
        "id": "j4ySdRgVMqKw"
      },
      "source": [
        "X_train = np.array(X_train)\n",
        "X_test = np.array(X_test)\n",
        "y_test = np.array(y_test)\n",
        "y_train = np.array(y_train)"
      ],
      "execution_count": null,
      "outputs": []
    },
    {
      "cell_type": "code",
      "metadata": {
        "id": "QI9afXwhMtsO"
      },
      "source": [
        "from keras.callbacks import ModelCheckpoint\n",
        "checkpoint_path=\"/content/drive/MyDrive/checkpoint/cp-{epoch:04d}.ckpt\"\n",
        "\n",
        "#cp_callback = tf.keras.callbacks.ModelCheckpoint(\n",
        "#     filepath=checkpoint_path,\n",
        "#     verbose=1,\n",
        "#     save_weights_only=False)\n",
        "\n",
        "aug = tf.keras.preprocessing.image.ImageDataGenerator()\n",
        "hist = model.fit(aug.flow([X_train[:,0], X_train[:, 1]], y_train, batch_size=16),\n",
        "    validation_data=([X_test[:,0], X_test[:, 1]], y_test), steps_per_epoch=len(X_train) // 16,\n",
        "    epochs=2, use_multiprocessing = True, workers = 20)"
      ],
      "execution_count": null,
      "outputs": []
    },
    {
      "cell_type": "code",
      "metadata": {
        "colab": {
          "base_uri": "https://localhost:8080/"
        },
        "id": "T3RIAmR92wvK",
        "outputId": "2edecb29-22b7-4557-8a88-fe4474a1cb4a"
      },
      "source": [
        "model.save(filepath='/content/drive/MyDrive/model')\n"
      ],
      "execution_count": null,
      "outputs": [
        {
          "output_type": "stream",
          "text": [
            "INFO:tensorflow:Assets written to: /content/drive/MyDrive/model/assets\n"
          ],
          "name": "stdout"
        }
      ]
    },
    {
      "cell_type": "code",
      "metadata": {
        "colab": {
          "base_uri": "https://localhost:8080/"
        },
        "id": "SraPNp6N6O8n",
        "outputId": "137a9508-ad56-4035-fc7d-7bd02c17f00f"
      },
      "source": [
        "y_train[23]"
      ],
      "execution_count": null,
      "outputs": [
        {
          "output_type": "execute_result",
          "data": {
            "text/plain": [
              "0"
            ]
          },
          "metadata": {
            "tags": []
          },
          "execution_count": 41
        }
      ]
    },
    {
      "cell_type": "code",
      "metadata": {
        "id": "rR7bYuf36D-e"
      },
      "source": [
        "cffn.predict(x=[X_train[23:24,0], X_train[23:24,1]], batch_size = 1)"
      ],
      "execution_count": null,
      "outputs": []
    },
    {
      "cell_type": "code",
      "metadata": {
        "id": "Bs91wZB5O_1g"
      },
      "source": [
        "print(model.evaluate())"
      ],
      "execution_count": null,
      "outputs": []
    },
    {
      "cell_type": "code",
      "metadata": {
        "colab": {
          "base_uri": "https://localhost:8080/",
          "height": 162
        },
        "id": "0TBVizVN8Vma",
        "outputId": "47557141-cbef-4963-9193-d706e29b03ec"
      },
      "source": [
        "featureExtractor.save('/content/drive/MyDrive/featureExtractor')"
      ],
      "execution_count": null,
      "outputs": [
        {
          "output_type": "error",
          "ename": "NameError",
          "evalue": "ignored",
          "traceback": [
            "\u001b[0;31m---------------------------------------------------------------------------\u001b[0m",
            "\u001b[0;31mNameError\u001b[0m                                 Traceback (most recent call last)",
            "\u001b[0;32m<ipython-input-7-88cc37fa03bd>\u001b[0m in \u001b[0;36m<module>\u001b[0;34m()\u001b[0m\n\u001b[0;32m----> 1\u001b[0;31m \u001b[0mfeatureExtractor\u001b[0m\u001b[0;34m.\u001b[0m\u001b[0msave\u001b[0m\u001b[0;34m(\u001b[0m\u001b[0;34m'/content/drive/MyDrive/featureExtractor'\u001b[0m\u001b[0;34m)\u001b[0m\u001b[0;34m\u001b[0m\u001b[0;34m\u001b[0m\u001b[0m\n\u001b[0m",
            "\u001b[0;31mNameError\u001b[0m: name 'featureExtractor' is not defined"
          ]
        }
      ]
    },
    {
      "cell_type": "code",
      "metadata": {
        "colab": {
          "base_uri": "https://localhost:8080/"
        },
        "id": "9OHRnUXA8s2Y",
        "outputId": "4fef80fa-720a-4470-cbb8-79009ef62c11"
      },
      "source": [
        "featsA = cffn.predict(X_train[23:24,0])\n",
        "featsB = cffn.predict(X_train[23:24,1])\n",
        "\n",
        "print(euclidean_distance([featsA, featsB]))"
      ],
      "execution_count": null,
      "outputs": [
        {
          "output_type": "stream",
          "text": [
            "tf.Tensor([[0.5724627]], shape=(1, 1), dtype=float32)\n"
          ],
          "name": "stdout"
        }
      ]
    },
    {
      "cell_type": "code",
      "metadata": {
        "id": "WJlchm5W-8vz"
      },
      "source": [
        "X_train, X_test, y_train, y_test = train_test_split(images_shuffled, labels_shuffled, test_size = 0.1, shuffle = False)"
      ],
      "execution_count": null,
      "outputs": []
    },
    {
      "cell_type": "code",
      "metadata": {
        "id": "-38MLYMb-Xfo"
      },
      "source": [
        "aug = tf.keras.preprocessing.image.ImageDataGenerator()\n",
        "preds2 = cffn.predict(aug.flow(np.array(X_test)))"
      ],
      "execution_count": null,
      "outputs": []
    },
    {
      "cell_type": "code",
      "metadata": {
        "colab": {
          "base_uri": "https://localhost:8080/"
        },
        "id": "QmK-nHZQ9rSG",
        "outputId": "01f12089-aa44-41ca-963e-77cde4e4a8d8"
      },
      "source": [
        "final.shape"
      ],
      "execution_count": null,
      "outputs": [
        {
          "output_type": "execute_result",
          "data": {
            "text/plain": [
              "(100000, 1)"
            ]
          },
          "metadata": {
            "tags": []
          },
          "execution_count": 86
        }
      ]
    },
    {
      "cell_type": "code",
      "metadata": {
        "id": "Dn2xFbgVHHKV"
      },
      "source": [
        "final = np.empty(shape = (100000, 1, 1, 128))\n",
        "for i in range(90000):\n",
        "  final[i] = preds[i]\n",
        "for i in range(10000):\n",
        "  final[90000+i] = preds2[i]\n"
      ],
      "execution_count": null,
      "outputs": []
    },
    {
      "cell_type": "code",
      "metadata": {
        "id": "q1ya2PqhH_u0",
        "colab": {
          "base_uri": "https://localhost:8080/"
        },
        "outputId": "acee3388-066b-4505-95ee-d3b9b589febe"
      },
      "source": [
        "final.shape"
      ],
      "execution_count": null,
      "outputs": [
        {
          "output_type": "execute_result",
          "data": {
            "text/plain": [
              "(100000, 1, 1, 128)"
            ]
          },
          "metadata": {
            "tags": []
          },
          "execution_count": 15
        }
      ]
    },
    {
      "cell_type": "code",
      "metadata": {
        "id": "mxFxKU42IUgr"
      },
      "source": [
        "def classification():\n",
        "  input = Input(shape = (1,1, 128))\n",
        "  x = Flatten()(input)\n",
        "  x = Dense(512)(x)\n",
        "  x = Dense(256)(x)\n",
        "  output = Dense(1, activation='sigmoid') (x)\n",
        "  return Model(input, output)\n"
      ],
      "execution_count": null,
      "outputs": []
    },
    {
      "cell_type": "code",
      "metadata": {
        "id": "ll6diWihL0Ar"
      },
      "source": [
        "classi = classification()\n",
        "classi.summary()"
      ],
      "execution_count": null,
      "outputs": []
    },
    {
      "cell_type": "code",
      "metadata": {
        "id": "wO7v9sgELiUv"
      },
      "source": [
        "final[0]"
      ],
      "execution_count": null,
      "outputs": []
    },
    {
      "cell_type": "code",
      "metadata": {
        "id": "HrxybEPzUMSW",
        "colab": {
          "base_uri": "https://localhost:8080/",
          "height": 178
        },
        "outputId": "b5e3ff7b-8c81-43a6-e517-e5dbbc6e24a9"
      },
      "source": [
        "for i in range(len(labels_shuffled)):\n",
        "  labels_shuffled[i] = [labels_shuffled[i], abs(1-labels_shuffled[i])]"
      ],
      "execution_count": null,
      "outputs": [
        {
          "output_type": "error",
          "ename": "TypeError",
          "evalue": "ignored",
          "traceback": [
            "\u001b[0;31m---------------------------------------------------------------------------\u001b[0m",
            "\u001b[0;31mTypeError\u001b[0m                                 Traceback (most recent call last)",
            "\u001b[0;32m<ipython-input-140-a9058f2bec21>\u001b[0m in \u001b[0;36m<module>\u001b[0;34m()\u001b[0m\n\u001b[1;32m      1\u001b[0m \u001b[0;32mfor\u001b[0m \u001b[0mi\u001b[0m \u001b[0;32min\u001b[0m \u001b[0mrange\u001b[0m\u001b[0;34m(\u001b[0m\u001b[0mlen\u001b[0m\u001b[0;34m(\u001b[0m\u001b[0mlabels_shuffled\u001b[0m\u001b[0;34m)\u001b[0m\u001b[0;34m)\u001b[0m\u001b[0;34m:\u001b[0m\u001b[0;34m\u001b[0m\u001b[0;34m\u001b[0m\u001b[0m\n\u001b[0;32m----> 2\u001b[0;31m   \u001b[0mlabels_shuffled\u001b[0m\u001b[0;34m[\u001b[0m\u001b[0mi\u001b[0m\u001b[0;34m]\u001b[0m \u001b[0;34m=\u001b[0m \u001b[0;34m[\u001b[0m\u001b[0mlabels_shuffled\u001b[0m\u001b[0;34m[\u001b[0m\u001b[0mi\u001b[0m\u001b[0;34m]\u001b[0m\u001b[0;34m,\u001b[0m \u001b[0mabs\u001b[0m\u001b[0;34m(\u001b[0m\u001b[0;36m1\u001b[0m\u001b[0;34m-\u001b[0m\u001b[0mlabels_shuffled\u001b[0m\u001b[0;34m[\u001b[0m\u001b[0mi\u001b[0m\u001b[0;34m]\u001b[0m\u001b[0;34m)\u001b[0m\u001b[0;34m]\u001b[0m\u001b[0;34m\u001b[0m\u001b[0;34m\u001b[0m\u001b[0m\n\u001b[0m",
            "\u001b[0;31mTypeError\u001b[0m: unsupported operand type(s) for -: 'int' and 'list'"
          ]
        }
      ]
    },
    {
      "cell_type": "code",
      "metadata": {
        "id": "S1AfLBkc_-tx"
      },
      "source": [
        "y = np.load('/content/drive/MyDrive/final_preds_labels.npy', allow_pickle=True)"
      ],
      "execution_count": null,
      "outputs": []
    },
    {
      "cell_type": "code",
      "metadata": {
        "colab": {
          "base_uri": "https://localhost:8080/"
        },
        "id": "u_R0BPEIUh-X",
        "outputId": "5cd21232-6d56-4b22-eb33-c1cbbe07434f"
      },
      "source": [
        "labels_shuffled[0]"
      ],
      "execution_count": null,
      "outputs": [
        {
          "output_type": "execute_result",
          "data": {
            "text/plain": [
              "[<tf.Tensor: shape=(), dtype=int32, numpy=1>,\n",
              " <tf.Tensor: shape=(), dtype=int32, numpy=0>]"
            ]
          },
          "metadata": {
            "tags": []
          },
          "execution_count": 150
        }
      ]
    },
    {
      "cell_type": "code",
      "metadata": {
        "id": "fahjZofhLlIv"
      },
      "source": [
        "X_train, X_test, y_train, y_test = train_test_split(final, labels_shuffled, test_size = 0.1, shuffle = False)"
      ],
      "execution_count": null,
      "outputs": []
    },
    {
      "cell_type": "code",
      "metadata": {
        "id": "WLqFL2FhJenS"
      },
      "source": [
        "classification_model = classification()\n",
        "classification_model.compile(loss = 'binary_crossentropy', optimizer='rmsprop', metrics = ['accuracy'])\n",
        "hist = classification_model.fit(x = np.array(final), y = y, epochs=13)"
      ],
      "execution_count": null,
      "outputs": []
    },
    {
      "cell_type": "code",
      "metadata": {
        "colab": {
          "base_uri": "https://localhost:8080/"
        },
        "id": "WNcNr2zlP-gT",
        "outputId": "16e1d336-4fd0-421a-89a0-d3d83176845e"
      },
      "source": [
        "print(classification_model.predict(np.array([final[5]])))"
      ],
      "execution_count": null,
      "outputs": [
        {
          "output_type": "stream",
          "text": [
            "[[0.48554456]]\n"
          ],
          "name": "stdout"
        }
      ]
    },
    {
      "cell_type": "code",
      "metadata": {
        "colab": {
          "base_uri": "https://localhost:8080/",
          "height": 285
        },
        "id": "MCyBbql7PsE0",
        "outputId": "fe368061-132a-4959-fbc3-f9434968a867"
      },
      "source": [
        "from matplotlib import pyplot as plt\n",
        "img = images_shuffled[91287]\n",
        "plt.imshow((np.array(img)).astype(np.uint8))\n",
        "plt.show()\n",
        "print(labels_shuffled[91287])"
      ],
      "execution_count": null,
      "outputs": [
        {
          "output_type": "display_data",
          "data": {
            "image/png": "[encoded data removed]",
            "text/plain": [
              "<Figure size 432x288 with 1 Axes>"
            ]
          },
          "metadata": {
            "tags": [],
            "needs_background": "light"
          }
        },
        {
          "output_type": "stream",
          "text": [
            "[<tf.Tensor: shape=(), dtype=int32, numpy=1>, <tf.Tensor: shape=(), dtype=int32, numpy=0>]\n"
          ],
          "name": "stdout"
        }
      ]
    },
    {
      "cell_type": "code",
      "metadata": {
        "id": "Zecwpk-jQ3RA"
      },
      "source": [
        "model = keras.Sequential()\n",
        "\n",
        "# Convolutional layer and maxpool layer 1\n",
        "model.add(keras.layers.Conv2D(32,(3,3),activation='relu',input_shape=(150,150,3)))\n",
        "model.add(keras.layers.MaxPool2D(2,2))\n",
        "\n",
        "# Convolutional layer and maxpool layer 2\n",
        "model.add(keras.layers.Conv2D(64,(3,3),activation='relu'))\n",
        "model.add(keras.layers.MaxPool2D(2,2))\n",
        "\n",
        "# Convolutional layer and maxpool layer 3\n",
        "model.add(keras.layers.Conv2D(128,(3,3),activation='relu'))\n",
        "model.add(keras.layers.MaxPool2D(2,2))\n",
        "\n",
        "# Convolutional layer and maxpool layer 4\n",
        "model.add(keras.layers.Conv2D(128,(3,3),activation='relu'))\n",
        "model.add(keras.layers.MaxPool2D(2,2))\n",
        "\n",
        "# This layer flattens the resulting image array to 1D array\n",
        "model.add(keras.layers.Flatten())\n",
        "\n",
        "# Hidden layer with 512 neurons and Rectified Linear Unit activation function\n",
        "model.add(keras.layers.Dense(512,activation='relu'))\n",
        "\n",
        "# Output layer with single neuron which gives 0 for Cat or 1 for Dog\n",
        "#Here we use sigmoid activation function which makes our model output to lie between 0 and 1\n",
        "model.add(keras.layers.Dense(1,activation='sigmoid'))"
      ],
      "execution_count": null,
      "outputs": []
    },
    {
      "cell_type": "code",
      "metadata": {
        "id": "2PpY1atiQ5l2"
      },
      "source": [
        "model.summary()"
      ],
      "execution_count": null,
      "outputs": []
    },
    {
      "cell_type": "code",
      "metadata": {
        "id": "7NJeDudha4U7"
      },
      "source": [
        "import cv2\n",
        "import random\n",
        "import os\n",
        "def predict(path):\n",
        "  real = random.choice(os.listdir('/content/sample_data/data/real'))\n",
        "  fake = random.choice(os.listdir('/content/sample_data/data/fake'))\n",
        "\n",
        "  real_img = cv2.imread(os.path.join('/content/sample_data/data/real', real))\n",
        "  real_img = cv2.resize(real_img, (64, 64))\n",
        "  fake_img = cv2.imread(os.path.join('/content/sample_data/data/fake', fake))\n",
        "  fake_img = cv2.resize(fake_img, (64, 64))\n",
        "\n",
        "  input_image = cv2.resize(cv2.imread(path), (64, 64))\n",
        "\n",
        "  real_dist = euclidean_distance([cffn.predict(np.array([real_img])), cffn.predict(np.array([input_image]))])\n",
        "  fake_dist = euclidean_distance([cffn.predict(np.array([fake_img])), cffn.predict(np.array([input_image]))])\n",
        "\n",
        "  if real_dist<fake_dist:\n",
        "    return 'real'\n",
        "  else:\n",
        "    return 'fake'"
      ],
      "execution_count": null,
      "outputs": []
    },
    {
      "cell_type": "code",
      "metadata": {
        "id": "gsy1UWVW_h6Y"
      },
      "source": [
        "predicts = []\n",
        "for i in range(100):\n",
        "  predicts.append(predict('/content/images.jpeg'))"
      ],
      "execution_count": null,
      "outputs": []
    },
    {
      "cell_type": "code",
      "metadata": {
        "id": "yg7pzS-Vxxi6"
      },
      "source": [
        "res = 0\n",
        "for i in predicts:\n",
        "  if i == 'fake':\n",
        "    res += 1"
      ],
      "execution_count": null,
      "outputs": []
    },
    {
      "cell_type": "code",
      "metadata": {
        "colab": {
          "base_uri": "https://localhost:8080/"
        },
        "id": "Vd-6zqf5x9we",
        "outputId": "d9fed666-e8ad-461a-b983-88f83e9f210b"
      },
      "source": [
        "print(predicts)"
      ],
      "execution_count": null,
      "outputs": [
        {
          "output_type": "stream",
          "text": [
            "['fake', 'fake', 'fake', 'fake', 'fake', 'fake', 'fake', 'fake', 'fake', 'fake', 'fake', 'fake', 'fake', 'fake', 'fake', 'fake', 'fake', 'fake', 'fake', 'fake', 'fake', 'fake', 'fake', 'fake', 'fake', 'fake', 'fake', 'fake', 'fake', 'fake', 'fake', 'fake', 'fake', 'fake', 'fake', 'fake', 'fake', 'fake', 'fake', 'fake', 'fake', 'fake', 'fake', 'fake', 'fake', 'fake', 'fake', 'fake', 'fake', 'fake', 'fake', 'fake', 'fake', 'fake', 'fake', 'fake', 'fake', 'fake', 'fake', 'fake', 'fake', 'fake', 'fake', 'fake', 'fake', 'fake', 'fake', 'fake', 'fake', 'fake', 'fake', 'fake', 'fake', 'fake', 'fake', 'fake', 'fake', 'fake', 'fake', 'fake', 'fake', 'fake', 'fake', 'fake', 'fake', 'fake', 'fake', 'fake', 'fake', 'fake', 'fake', 'fake', 'fake', 'fake', 'fake', 'fake', 'fake', 'fake', 'fake', 'fake']\n"
          ],
          "name": "stdout"
        }
      ]
    },
    {
      "cell_type": "code",
      "metadata": {
        "id": "y_Wp_S5lnFyl"
      },
      "source": [
        "from IPython.display import clear_output\n",
        "predictions = []\n",
        "for img in os.listdir('/content/sample_data/data/fake'):\n",
        "  predictions.append([predict(os.path.join('/content/sample_data/data/fake', img))])\n",
        "  print(str(img))\n",
        "  clear_output(wait = True)"
      ],
      "execution_count": null,
      "outputs": []
    },
    {
      "cell_type": "code",
      "metadata": {
        "colab": {
          "base_uri": "https://localhost:8080/"
        },
        "id": "Kn2ptIUz9c3t",
        "outputId": "c4d8e96e-f7e2-4d27-a00f-94bf13c8a07b"
      },
      "source": [
        "print(len(predictions))"
      ],
      "execution_count": null,
      "outputs": [
        {
          "output_type": "stream",
          "text": [
            "22\n"
          ],
          "name": "stdout"
        }
      ]
    },
    {
      "cell_type": "code",
      "metadata": {
        "id": "-wEMUbNNnRCy"
      },
      "source": [
        "cffn.summary()"
      ],
      "execution_count": null,
      "outputs": []
    },
    {
      "cell_type": "code",
      "metadata": {
        "id": "hYvt3wcBVxyn"
      },
      "source": [
        "def siamese(cffn):\n",
        "  imgA = Input(shape = (64, 64, 3))\n",
        "  imgB = Input(shape = (64, 64, 3))\n",
        "  featsA = cffn(imgA)\n",
        "  featsB = cffn(imgB)\n",
        "  dist = Lambda(euclidean_distance)([featsA, featsB])\n",
        "  output = Dense(1, activation='sigmoid')(dist)\n",
        "\n",
        "  return Model([imgA, imgB], output)\n",
        "\n",
        "siamese = siamese(cffn)"
      ],
      "execution_count": null,
      "outputs": []
    },
    {
      "cell_type": "code",
      "metadata": {
        "id": "oCafxSTwZDhB"
      },
      "source": [
        "aug = tf.keras.preprocessing.image.ImageDataGenerator()\n",
        "hist = siamese.fit(aug.flow([X_train[:,0], X_train[:, 1]], y_train, batch_size=16),\n",
        "    validation_data=([X_test[:,0], X_test[:, 1]], y_test), steps_per_epoch=len(X_train) // 16,\n",
        "    epochs=2, use_multiprocessing = True, workers = 20)"
      ],
      "execution_count": null,
      "outputs": []
    },
    {
      "cell_type": "code",
      "metadata": {
        "colab": {
          "base_uri": "https://localhost:8080/"
        },
        "id": "bxnbvEgDLL7S",
        "outputId": "3a6d1440-0127-42ad-f12d-1f8c43dfb311"
      },
      "source": [
        "y_train[20]"
      ],
      "execution_count": null,
      "outputs": [
        {
          "output_type": "execute_result",
          "data": {
            "text/plain": [
              "1"
            ]
          },
          "metadata": {
            "tags": []
          },
          "execution_count": 68
        }
      ]
    },
    {
      "cell_type": "code",
      "metadata": {
        "colab": {
          "base_uri": "https://localhost:8080/"
        },
        "id": "bwkNGd9CY2fh",
        "outputId": "ea2fe784-ac23-419b-f2f2-46fa53814168"
      },
      "source": [
        "siamese.predict(x = [X_train[21:22,0], X_train[21:22, 1]])"
      ],
      "execution_count": null,
      "outputs": [
        {
          "output_type": "execute_result",
          "data": {
            "text/plain": [
              "array([[0.49633345]], dtype=float32)"
            ]
          },
          "metadata": {
            "tags": []
          },
          "execution_count": 54
        }
      ]
    },
    {
      "cell_type": "code",
      "metadata": {
        "colab": {
          "base_uri": "https://localhost:8080/"
        },
        "id": "MpGjoqjrMLqt",
        "outputId": "628ea6d5-7f68-46f1-f193-23be818520c3"
      },
      "source": [
        "siamese_original.predict(x = [X_train[21:22,0], X_train[21:22, 1]])"
      ],
      "execution_count": null,
      "outputs": [
        {
          "output_type": "execute_result",
          "data": {
            "text/plain": [
              "array([[0.5751907]], dtype=float32)"
            ]
          },
          "metadata": {
            "tags": []
          },
          "execution_count": 55
        }
      ]
    },
    {
      "cell_type": "code",
      "metadata": {
        "colab": {
          "base_uri": "https://localhost:8080/"
        },
        "id": "yi63mtcNODHn",
        "outputId": "ca601d1f-a260-4acd-8073-4494106ea009"
      },
      "source": [
        "tf.keras.activations.sigmoid(siamese_original.predict(x = [X_train[21:22,0], X_train[21:22, 1]]))"
      ],
      "execution_count": null,
      "outputs": [
        {
          "output_type": "execute_result",
          "data": {
            "text/plain": [
              "<tf.Tensor: shape=(1, 1), dtype=float32, numpy=array([[0.63996005]], dtype=float32)>"
            ]
          },
          "metadata": {
            "tags": []
          },
          "execution_count": 57
        }
      ]
    },
    {
      "cell_type": "code",
      "metadata": {
        "id": "Gvtp5rVn5UDl"
      },
      "source": [
        "siamese_original = tf.keras.models.load_model(filepath = '/content/drive/MyDrive/model', compile = False)"
      ],
      "execution_count": null,
      "outputs": []
    },
    {
      "cell_type": "code",
      "metadata": {
        "id": "gR3Xf75QoGWP"
      },
      "source": [
        "imgA = Input(shape = (64, 64, 3))\n",
        "imgB = Input(shape = (64, 64, 3))\n",
        "featsA = cffn(imgA)\n",
        "featsB = cffn(imgB)\n",
        "dist = Lambda(lambda tensors:K.abs(tensors[0] - tensors[1]))([featsA, featsB])\n",
        "output = Dense(1, activation='sigmoid')(dist)\n",
        "final_model =  Model([imgA, imgB], output)"
      ],
      "execution_count": null,
      "outputs": []
    },
    {
      "cell_type": "code",
      "metadata": {
        "colab": {
          "base_uri": "https://localhost:8080/"
        },
        "id": "xP2DHoQi_p8H",
        "outputId": "65beab4e-4a2e-436e-891a-1bdde3b093f8"
      },
      "source": [
        "cffn = tf.keras.models.load_model(filepath = '/content/drive/MyDrive/featureExtractor')"
      ],
      "execution_count": null,
      "outputs": [
        {
          "output_type": "stream",
          "text": [
            "WARNING:tensorflow:No training configuration found in save file, so the model was *not* compiled. Compile it manually.\n"
          ],
          "name": "stdout"
        }
      ]
    },
    {
      "cell_type": "code",
      "metadata": {
        "id": "GRkZcW19o02-"
      },
      "source": [
        "def validate(cffn, k, N, image_tensor, label_tensor, with_real = True):\n",
        "\n",
        "  res = 0\n",
        "  for i in range(k):\n",
        "    if with_real:\n",
        "      image_set = np.empty(shape = (N, 64, 64, 3))\n",
        "      while True:\n",
        "        idx = np.random.choice(np.array(label_tensor).shape[0], size = 1)[0]\n",
        "        if label_tensor[idx]:\n",
        "          test_image = image_tensor[idx]\n",
        "          #print(test_image.shape)\n",
        "          break\n",
        "      while True:\n",
        "        idx = np.random.choice(np.array(label_tensor).shape[0], size = 1)[0]\n",
        "        if label_tensor[idx]:\n",
        "          image_set[0] = image_tensor[idx]\n",
        "          break\n",
        "\n",
        "      for i in range(1, N):\n",
        "        while True:\n",
        "          idx = np.random.choice(np.array(label_tensor).shape[0], size = 1)[0]\n",
        "          if not label_tensor[idx]:\n",
        "            image_set[i] = image_tensor[idx]\n",
        "            break\n",
        "\n",
        "    else:\n",
        "      image_set = np.empty(shape = (N, 64, 64, 3))\n",
        "      while True:\n",
        "        idx = np.random.choice(np.array(label_tensor).shape[0], size = 1)[0]\n",
        "        if not label_tensor[idx]:\n",
        "          test_image = image_tensor[idx]\n",
        "          break\n",
        "      while True:\n",
        "        idx = np.random.choice(np.array(label_tensor).shape[0], size = 1)[0]\n",
        "        if not label_tensor[idx]:\n",
        "          image_set[0] = image_tensor[idx]\n",
        "          break\n",
        "\n",
        "      for i in range(1, N):\n",
        "        while True:\n",
        "          idx = np.random.choice(np.array(label_tensor).shape[0], size = 1)[0]\n",
        "          if label_tensor[idx]:\n",
        "            image_set[i] = image_tensor[idx]\n",
        "            break\n",
        "    #print(image_set.shape)\n",
        "    #print(test_image.shape)\n",
        "    #for i in range(k):\n",
        "    dist = np.empty(shape = (N, 1))\n",
        "    for j in range(N):\n",
        "        #print(N)\n",
        "      dist[j] = euclidean_distance([cffn.predict(np.array([test_image])), cffn.predict(np.array([image_set[j]]))])\n",
        "      print(dist)\n",
        "      if np.where(dist == min(dist)) == 0:\n",
        "        res += 1\n",
        "    print(res)\n",
        "  return (res/k)*100"
      ],
      "execution_count": null,
      "outputs": []
    },
    {
      "cell_type": "markdown",
      "metadata": {
        "id": "ksokbrdY1b_s"
      },
      "source": []
    },
    {
      "cell_type": "code",
      "metadata": {
        "id": "szQu6H99zujp"
      },
      "source": [
        "n_values = [2, 4, 8, 16, 32]\n",
        "accuracies = []\n",
        "for i in n_values:\n",
        "  accuracies.append(validate(cffn, 100, i, images_shuffled, labels_shuffled))"
      ],
      "execution_count": null,
      "outputs": []
    },
    {
      "cell_type": "code",
      "metadata": {
        "colab": {
          "base_uri": "https://localhost:8080/"
        },
        "id": "boa-M1ZVKGLq",
        "outputId": "a8bd1457-6d71-4dbc-ce2f-b15bbd90b8cd"
      },
      "source": [
        "accuracies"
      ],
      "execution_count": null,
      "outputs": [
        {
          "output_type": "execute_result",
          "data": {
            "text/plain": [
              "[100.0, 100.0, 100.0, 100.0, 100.0]"
            ]
          },
          "metadata": {
            "tags": []
          },
          "execution_count": 12
        }
      ]
    },
    {
      "cell_type": "code",
      "metadata": {
        "id": "qFUQ9Px4uc8p"
      },
      "source": [
        "fake_images = np.empty(shape = (10, 64, 64, 3))\n",
        "for i in range(10):\n",
        "  while True:\n",
        "    idx = np.random.choice(np.array(label_tensor).shape[0], size = 1)[0]\n",
        "    if not label_tensor[idx]:\n",
        "      fake_images[i] = image_tensor[idx]\n",
        "      break\n",
        "\n",
        "for i in fake_images:\n",
        "  plt.imshow(i.astype(np.uint8))\n",
        "  plt.show()"
      ],
      "execution_count": null,
      "outputs": []
    },
    {
      "cell_type": "code",
      "metadata": {
        "colab": {
          "base_uri": "https://localhost:8080/"
        },
        "id": "aXwip15_rcwS",
        "outputId": "6e8d1913-f8da-4124-b39d-ba61ee3dd720"
      },
      "source": [
        "lanp.random.choice(np.array(label_tensor).shape[0], size = 1)[0]"
      ],
      "execution_count": null,
      "outputs": [
        {
          "output_type": "execute_result",
          "data": {
            "text/plain": [
              "23326"
            ]
          },
          "metadata": {
            "tags": []
          },
          "execution_count": 88
        }
      ]
    },
    {
      "cell_type": "code",
      "metadata": {
        "id": "Mr5a5IIHqyTC"
      },
      "source": [
        "import matplotlib.pyplot as plt\n",
        "plt.imshow(image_tensor[3].astype(np.uint8))\n",
        "plt.show()"
      ],
      "execution_count": null,
      "outputs": []
    },
    {
      "cell_type": "code",
      "metadata": {
        "id": "j6d4w22FrOgI"
      },
      "source": [
        "import tensorflow.python.ops.numpy_ops.np_config as np_config\n",
        "np_config.enable_numpy_behavior()"
      ],
      "execution_count": null,
      "outputs": []
    },
    {
      "cell_type": "code",
      "metadata": {
        "id": "RiMNANknU5E1"
      },
      "source": [
        "image_tensor = np.array(image_tensor)"
      ],
      "execution_count": null,
      "outputs": []
    },
    {
      "cell_type": "code",
      "metadata": {
        "id": "hpPohPcBV-4x"
      },
      "source": [
        "real = []\n",
        "fake = []\n",
        "label_tensor = np.array(label_tensor)\n",
        "image_tensor = np.array(image_tensor)\n",
        "for i in range(len(label_tensor)):\n",
        "  if label_tensor[i] == 0:\n",
        "    fake.append(image_tensor[i])\n",
        "  else:\n",
        "    real.append(image_tensor[i])"
      ],
      "execution_count": null,
      "outputs": []
    },
    {
      "cell_type": "code",
      "metadata": {
        "id": "uBcfdWvWbvzC"
      },
      "source": [
        "np.save('real', real)\n",
        "#np.save('fake', fake)"
      ],
      "execution_count": null,
      "outputs": []
    },
    {
      "cell_type": "code",
      "metadata": {
        "id": "_XOqawEUWem0"
      },
      "source": [
        "from IPython.display import clear_output\n",
        "def validation(k, N, is_real = True):\n",
        "  print('n='+str(N))\n",
        "  res = 0\n",
        "  for i in range(k):\n",
        "    if is_real:\n",
        "      test_image = real[np.random.choice(len(real))]\n",
        "      idx = np.random.choice(len(fake), size = N)\n",
        "      image_set = []\n",
        "      for index in idx:\n",
        "        image_set.append(fake[index])\n",
        "      image_set[0] = real[np.random.choice(len(real))]\n",
        "    else:\n",
        "      test_image = fake[np.random.choice(len(fake))]\n",
        "      idx = np.random.choice(len(real), size = N)\n",
        "      image_set = []\n",
        "      for index in idx:\n",
        "        image_set.append(real[index])\n",
        "      image_set[0] = fake[np.random.choice(len(fake))]\n",
        "\n",
        "    print(len(image_set))\n",
        "    dist = np.empty(shape=(N,1))\n",
        "    for j in range(N):\n",
        "      featsA = cffn.predict(np.array([test_image]))\n",
        "      featsB = cffn.predict(np.array([image_set[j]]))\n",
        "\n",
        "      dist[j] = euclidean_distance([featsA, featsB])\n",
        "\n",
        "    print(dist)\n",
        "    print(min(dist)[0])\n",
        "    if min(dist) == dist[0]:\n",
        "      res += 1\n",
        "      print(res)\n",
        "    clear_output(wait = True)\n",
        "  return (res/k)*100"
      ],
      "execution_count": null,
      "outputs": []
    },
    {
      "cell_type": "code",
      "metadata": {
        "colab": {
          "base_uri": "https://localhost:8080/"
        },
        "id": "2j5iJlEykf7O",
        "outputId": "b7608126-9c62-4c27-c923-cbd71c04b085"
      },
      "source": [
        "arr = [[0.0270029 ], [0.57126254]]\n",
        "print(min(arr) == arr[1])"
      ],
      "execution_count": null,
      "outputs": [
        {
          "output_type": "stream",
          "text": [
            "False\n"
          ],
          "name": "stdout"
        }
      ]
    },
    {
      "cell_type": "code",
      "metadata": {
        "id": "d6l-RLU7YsiF"
      },
      "source": [
        "\n",
        "n_values = [2, 4, 8, 16, 32]\n",
        "accuracies_fake = []\n",
        "for i in n_values:\n",
        "  accuracies_fake.append(validation(100, i, is_real=False))"
      ],
      "execution_count": null,
      "outputs": []
    },
    {
      "cell_type": "code",
      "metadata": {
        "colab": {
          "base_uri": "https://localhost:8080/",
          "height": 295
        },
        "id": "PEsBbzVIjzp8",
        "outputId": "c5db202e-67bd-4067-cf3b-ebd5eb7990fb"
      },
      "source": [
        "import matplotlib.pyplot as plt\n",
        "\n",
        "\n",
        "plt.plot(arr, accuracies, label = 'random')\n",
        "plt.plot(arr, [100, 100, 100, 100, 98, 98], label = 'fake')\n",
        "plt.plot(arr, [100, 100, 100, 100, 100, 99], label = 'real')\n",
        "plt.xlabel('n')\n",
        "plt.ylabel('Accuracy')\n",
        "plt.title('Accuracy with Fake and Real Images and Random Model')\n",
        "plt.xticks(arr, arr)\n",
        "plt.legend()\n",
        "plt.yticks(np.arange(min(accuracies), max(accuracies)+1, 5.0))\n",
        "#plt.axis('equal')\n",
        "#plt.ylim(0, 150)\n",
        "plt.show()"
      ],
      "execution_count": null,
      "outputs": [
        {
          "output_type": "display_data",
          "data": {
            "image/png": "[encoded data removed]",
            "text/plain": [
              "<Figure size 432x288 with 1 Axes>"
            ]
          },
          "metadata": {
            "tags": [],
            "needs_background": "light"
          }
        }
      ]
    },
    {
      "cell_type": "code",
      "metadata": {
        "id": "YJ9Qp7mh0SLG"
      },
      "source": [
        "from tkinter import *\n",
        "from PIL import Image, ImageTk\n",
        "from tkinter import filedialog\n",
        "from tkinter.ttk import *\n",
        "\n",
        "root = Tk()\n",
        "image1 = Image.open(\"/content/13.jpg\")\n",
        "image1 = image1.resize((1700,900),Image.ANTIALIAS)\n",
        "bg = ImageTk.PhotoImage(image1)\n",
        "\n",
        "my_canvas = Canvas(root,width=1700,height=900)\n",
        "my_canvas.pack(fill=\"both\", expand=True)\n",
        "\n",
        "my_canvas.create_image(0,0,image=bg,anchor=\"nw\")\n",
        "\n",
        "my_canvas.create_text(480,300,text=\"Fake Face Image Detection\",font=(\"Comic Sans MS\",50,\"bold\"),fill=\"white\")\n",
        "\n",
        "def myClick():\n",
        "\troot.filename = filedialog.askopenfilename(initialdir=\"./\",title=\"Select a file\",filetypes=((\"png\",\"*.png\"),(\"jpg\",\"*.jpg\")))\n",
        "\n",
        "style = Style()\n",
        "#photo = Image.open(\"./13c.jpg\")\n",
        "#image1 = image1.resize((10,10),Image.ANTIALIAS)\n",
        "#bg1 = ImageTk.PhotoImage(photo)\n",
        "style.configure('W.TButton',font=(\"calibri\", 30,\"bold\"),foreground=\"#10518c\")\n",
        "button = Button(root,text=\"Uplod Image\",command=myClick)\n",
        "\n",
        "button_window = my_canvas.create_window(350,400,anchor=\"nw\",window=button)\n",
        "\n",
        "root.mainloop()"
      ],
      "execution_count": null,
      "outputs": []
    },
    {
      "cell_type": "code",
      "metadata": {
        "colab": {
          "base_uri": "https://localhost:8080/",
          "height": 295
        },
        "id": "Ev1uu3xwUOdH",
        "outputId": "79e31bcc-f591-444c-a243-909289b60b4d"
      },
      "source": [
        "import matplotlib.pyplot as plt\n",
        "\n",
        "plt.plot([8, 16, 32, 64], [0.0017, 0.0017, 0.0018, 0.0020])\n",
        "plt.xticks([8, 16, 32, 64], [8, 16, 32, 64])\n",
        "plt.title('Batch size vs Loss')\n",
        "plt.xlabel('Batch Size')\n",
        "plt.ylabel('Loss')\n",
        "plt.show()"
      ],
      "execution_count": null,
      "outputs": [
        {
          "output_type": "display_data",
          "data": {
            "image/png": "[encoded data removed]",
            "text/plain": [
              "<Figure size 432x288 with 1 Axes>"
            ]
          },
          "metadata": {
            "tags": [],
            "needs_background": "light"
          }
        }
      ]
    },
    {
      "cell_type": "code",
      "metadata": {
        "id": "X_uP_4com1yS"
      },
      "source": [
        "arr = [2, 4, 8, 16, 32]\n",
        "def random_validate(n, k):\n",
        "  res = 0\n",
        "  for i in range(k):\n",
        "    classes = ['real', 'fake']\n",
        "    current_class = classes[np.random.choice([0,1])]\n",
        "    path = os.path.join('/content/sample_data/data', current_class)\n",
        "    test_img = cv2.imread(os.path.join(path, np.random.choice(os.listdir(path))))\n",
        "    image_set = []\n",
        "    image_set.append(cv2.imread(os.path.join(path, np.random.choice(os.listdir(path)))))\n",
        "    for j in range(n-1):\n",
        "      set_path = 'real'\n",
        "      if current_class == 'real':\n",
        "        set_path = '/content/sample_data/data/fake'\n",
        "      else:\n",
        "        set_path = '/content/sample_data/data/real'\n",
        "      image_set.append(cv2.imread(os.path.join(set_path, np.random.choice(os.listdir(set_path)))))\n",
        "    dist = []\n",
        "    for img in image_set:\n",
        "      dist.append(euclidean_distance([test_img, img]))\n",
        "    if dist[0] == min[dist]:\n",
        "      res+=1\n",
        "  return (res/k)*100\n",
        "\n",
        "accuracies = []\n",
        "for i in arr:\n",
        "  accuracies.append(random_validate(i, 100))"
      ],
      "execution_count": null,
      "outputs": []
    },
    {
      "cell_type": "code",
      "metadata": {
        "id": "3ZDvzd98oB_N"
      },
      "source": [
        "accuracies = []\n",
        "arr = [1, 2, 4, 8, 16, 32]\n",
        "\n",
        "for i in arr:\n",
        "  res = 0\n",
        "  for k in range(100):\n",
        "    dist = []\n",
        "    for j in range(i):\n",
        "      dist.append(random.random())\n",
        "    #print(min(dist))\n",
        "    if dist[np.random.choice(np.arange(i))] == min(dist):\n",
        "      res+=1\n",
        "  accuracies.append(res)"
      ],
      "execution_count": null,
      "outputs": []
    },
    {
      "cell_type": "code",
      "metadata": {
        "colab": {
          "base_uri": "https://localhost:8080/"
        },
        "id": "hEGEnFvvtCSi",
        "outputId": "2ff4d98f-a97e-41f5-eebc-f77c5c541514"
      },
      "source": [
        "print(accuracies)"
      ],
      "execution_count": null,
      "outputs": [
        {
          "output_type": "stream",
          "text": [
            "[100, 44, 25, 16, 7, 5]\n"
          ],
          "name": "stdout"
        }
      ]
    }
  ]
}